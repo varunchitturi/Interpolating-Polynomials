{
 "cells": [
  {
   "cell_type": "markdown",
   "metadata": {
    "collapsed": true,
    "pycharm": {
     "name": "#%% md\n"
    }
   },
   "source": [
    "# Interpolating Polynomials"
   ]
  },
  {
   "cell_type": "code",
   "execution_count": null,
   "outputs": [],
   "source": [
    "from Polynomial import *"
   ],
   "metadata": {
    "collapsed": false,
    "pycharm": {
     "name": "#%%\n"
    }
   }
  },
  {
   "cell_type": "markdown",
   "source": [
    "## Question 1\n",
    "Find the interpolating polynomial of degree 3 which passes through (1,29), (-1,-35), (2,31), and (-3,-19)."
   ],
   "metadata": {
    "collapsed": false,
    "pycharm": {
     "name": "#%% md\n"
    }
   }
  },
  {
   "cell_type": "markdown",
   "source": [],
   "metadata": {
    "collapsed": false
   }
  },
  {
   "cell_type": "code",
   "execution_count": null,
   "outputs": [],
   "source": [],
   "metadata": {
    "collapsed": false,
    "pycharm": {
     "name": "#%%\n"
    }
   }
  },
  {
   "cell_type": "markdown",
   "source": [
    "## Question 2\n",
    "To construct a fourth degree polynomial which \"looks like\" the graph of y = 2t , one could specify that the polynomial go through the following five points: (-1, 0.5), (0,1), (1,2), (2,4), and (3,8)."
   ],
   "metadata": {
    "collapsed": false
   }
  },
  {
   "cell_type": "code",
   "execution_count": null,
   "outputs": [],
   "source": [],
   "metadata": {
    "collapsed": false,
    "pycharm": {
     "name": "#%%\n"
    }
   }
  },
  {
   "cell_type": "markdown",
   "source": [
    "## Question 3\n",
    "Interpolating polynomials allow us to estimate values of an unknown function between known data points. For example, consider the data in Table 1, which was taken from Car and Driver magazine1. Five sport utility vehicles were tested for their acceleration: the data reported were the time it took each vehicle to go from 0 to 30 m.p.h., from 0 to 60 m.p.h., and from 0 to 90 m.p.h. For each vehicle, write the third degree interpolating polynomial and use that polynomial to find an estimate for the time it would take the vehicle to accelerate from 0 m.p.h. to 50 m.p.h. Note: to obtain the polynomials, it may be easier to write the data in the form suggested by Table 2.\n",
    "\n",
    "| Vehicle           | 0-30 mph | 0-60 mph | 0-90 mph |\n",
    "|-------------------|----------|----------|----------|\n",
    "| Honda CR - VEX    | 3.1      | 10.3     | 30.1     |\n",
    "| Jeep Cherokee SE  | 3.2      | 12       | 38.2     |\n",
    "| Kia Sportage      | 4.2      | 12.8     | 38.7     |\n",
    "| Subaru Forester L | 2.8      | 9.5      | 22.7     |\n",
    "| Toyota RAV4       | 3.0      | 10.2     | 31.7     |\n",
    "Table 1: Acceleration Times (seconds) for various models of automobiles\n",
    "\n",
    "|-------------------|----------|----------|-----------------------|\n",
    "| Honda CR - VEX    | Time      |0| 3.1   | 10.3     | 30.1 |\n",
    "|                   | Velocity  |0| 30    | 60     | 90    |\n",
    "| Jeep Cherokee SE  | Time      | 0|3.2   | 12     | 38.2     |\n",
    "|                   | Velocity  |0| 30    | 60     | 90     |\n",
    "| Kia Sportage      | Time      | 0|4.2   | 12.8     | 38.7    |\n",
    "|                   | Velocity  |0| 30    | 60    | 90  |\n",
    "| Subaru Forester L | Time      |0| 2.8   | 9.5     | 22.7     |\n",
    "|                   | Velocity  |0| 30    | 60     | 90     |\n",
    "| Toyota RAV4       | Time      |0| 3.0   | 10.2     | 31.7     |\n",
    "|                   | Velocity  |0| 30    | 60     | 90    |\n",
    "Table 2: Elapsed Time (seconds) and Velocities (m.p.h.) for various models of automobiles"
   ],
   "metadata": {
    "collapsed": false
   }
  },
  {
   "cell_type": "code",
   "execution_count": null,
   "outputs": [],
   "source": [],
   "metadata": {
    "collapsed": false,
    "pycharm": {
     "name": "#%%\n"
    }
   }
  }
 ],
 "metadata": {
  "kernelspec": {
   "display_name": "Python 3",
   "language": "python",
   "name": "python3"
  },
  "language_info": {
   "codemirror_mode": {
    "name": "ipython",
    "version": 2
   },
   "file_extension": ".py",
   "mimetype": "text/x-python",
   "name": "python",
   "nbconvert_exporter": "python",
   "pygments_lexer": "ipython2",
   "version": "2.7.6"
  }
 },
 "nbformat": 4,
 "nbformat_minor": 0
}