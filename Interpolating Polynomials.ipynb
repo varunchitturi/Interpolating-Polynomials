{
 "cells": [
  {
   "cell_type": "markdown",
   "metadata": {
    "collapsed": true,
    "pycharm": {
     "name": "#%% md\n"
    }
   },
   "source": [
    "# Interpolating Polynomials"
   ]
  },
  {
   "cell_type": "code",
   "execution_count": 1,
   "metadata": {
    "collapsed": false,
    "pycharm": {
     "name": "#%%\n"
    }
   },
   "outputs": [],
   "source": [
    "from Polynomial import *\n",
    "import matplotlib.pyplot as plt\n",
    "import numpy as np"
   ]
  },
  {
   "cell_type": "markdown",
   "metadata": {
    "collapsed": false,
    "pycharm": {
     "name": "#%% md\n"
    }
   },
   "source": [
    "## Question 1\n",
    "Find the interpolating polynomial of degree 3 which passes through (1,29), (-1,-35), (2,31), and (-3,-19)."
   ]
  },
  {
   "cell_type": "code",
   "execution_count": 2,
   "metadata": {
    "collapsed": false,
    "pycharm": {
     "name": "#%%\n"
    }
   },
   "outputs": [
    {
     "name": "stdout",
     "output_type": "stream",
     "text": [
      "-4x^3 - 2x^2 + 36x - 1\n"
     ]
    }
   ],
   "source": [
    "poly = Polynomial(\n",
    "    Point(1, 29),\n",
    "    Point(-1, -35),\n",
    "    Point(2, 31),\n",
    "    Point(-3, -19))\n",
    "print(poly)"
   ]
  },
  {
   "cell_type": "markdown",
   "metadata": {
    "collapsed": false
   },
   "source": []
  },
  {
   "cell_type": "code",
   "execution_count": 4,
   "metadata": {
    "collapsed": false,
    "pycharm": {
     "name": "#%%\n"
    }
   },
   "outputs": [
    {
     "name": "stdout",
     "output_type": "stream",
     "text": [
      "0.021x^4 + 0.042x^3 + 0.229x^2 + 0.708x + 1\n"
     ]
    }
   ],
   "source": [
    "poly = Polynomial(\n",
    "    Point(-1, 0.5),\n",
    "    Point(0, 1),\n",
    "    Point(1, 2),\n",
    "    Point(2, 4),\n",
    "    Point(3, 8))\n",
    "print(poly)"
   ]
  },
  {
   "cell_type": "code",
   "execution_count": 11,
   "outputs": [
    {
     "data": {
      "text/plain": "<Figure size 432x288 with 1 Axes>",
      "image/png": "[encoded data removed]"
     },
     "metadata": {
      "needs_background": "light"
     },
     "output_type": "display_data"
    }
   ],
   "source": [
    "x = np.arange(-10, 10, 0.001)\n",
    "y1 = poly.evaluate(x)\n",
    "y2 = 2 ** x\n",
    "\n",
    "fig, ax = plt.subplots()\n",
    "\n",
    "ax.plot(x, y1, linewidth=2.0)\n",
    "ax.plot(x, y2, linewidth=2.0)\n",
    "\n",
    "plt.legend([\"Polynomial\", \"2^x\"])\n",
    "\n",
    "plt.show()\n"
   ],
   "metadata": {
    "collapsed": false,
    "pycharm": {
     "name": "#%%\n"
    }
   }
  },
  {
   "cell_type": "markdown",
   "metadata": {
    "collapsed": false
   },
   "source": [
    "## Question 3\n",
    "Interpolating polynomials allow us to estimate values of an unknown function between known data points. For example, consider the data in Table 1, which was taken from Car and Driver magazine1. Five sport utility vehicles were tested for their acceleration: the data reported were the time it took each vehicle to go from 0 to 30 m.p.h., from 0 to 60 m.p.h., and from 0 to 90 m.p.h. For each vehicle, write the third degree interpolating polynomial and use that polynomial to find an estimate for the time it would take the vehicle to accelerate from 0 m.p.h. to 50 m.p.h. Note: to obtain the polynomials, it may be easier to write the data in the form suggested by Table 2.\n",
    "\n",
    "| Vehicle           | 0-30 mph | 0-60 mph | 0-90 mph |\n",
    "|-------------------|----------|----------|----------|\n",
    "| Honda CR - VEX    | 3.1      | 10.3     | 30.1     |\n",
    "| Jeep Cherokee SE  | 3.2      | 12       | 38.2     |\n",
    "| Kia Sportage      | 4.2      | 12.8     | 38.7     |\n",
    "| Subaru Forester L | 2.8      | 9.5      | 22.7     |\n",
    "| Toyota RAV4       | 3.0      | 10.2     | 31.7     |\n",
    "Table 1: Acceleration Times (seconds) for various models of automobiles\n",
    "\n",
    "|-------------------|----------|----------|-----------------------|\n",
    "| Honda CR - VEX    | Time      |0| 3.1   | 10.3     | 30.1 |\n",
    "|                   | Velocity  |0| 30    | 60     | 90    |\n",
    "| Jeep Cherokee SE  | Time      | 0|3.2   | 12     | 38.2     |\n",
    "|                   | Velocity  |0| 30    | 60     | 90     |\n",
    "| Kia Sportage      | Time      | 0|4.2   | 12.8     | 38.7    |\n",
    "|                   | Velocity  |0| 30    | 60    | 90  |\n",
    "| Subaru Forester L | Time      |0| 2.8   | 9.5     | 22.7     |\n",
    "|                   | Velocity  |0| 30    | 60     | 90     |\n",
    "| Toyota RAV4       | Time      |0| 3.0   | 10.2     | 31.7     |\n",
    "|                   | Velocity  |0| 30    | 60     | 90    |\n",
    "Table 2: Elapsed Time (seconds) and Velocities (m.p.h.) for various models of automobiles"
   ]
  },
  {
   "cell_type": "code",
   "execution_count": 11,
   "metadata": {
    "collapsed": false,
    "pycharm": {
     "name": "#%%\n"
    }
   },
   "outputs": [
    {
     "name": "stdout",
     "output_type": "stream",
     "text": [
      "HONDA V(t) = 0.015x^3 - 0.729x^2 + 11.799x + 0\n",
      "The Honda reaches a velocity of 50 mph at 6.534 seconds\n",
      "\n",
      "JEEP V(t) = 0.011x^3 - 0.669x^2 + 11.401x + 0\n",
      "The Jeep reaches a velocity of 50 mph at 6.764 seconds\n",
      "\n",
      "KIA V(t) = 0.006x^3 - 0.381x^2 + 8.645x + 0\n",
      "The Honda reaches a velocity of 50 mph at 8.681 seconds\n",
      "\n",
      "SUBARU V(t) = 0.024x^3 - 0.952x^2 + 13.192x + 0\n",
      "The Subaru reaches a velocity of 50 mph at 5.985 seconds\n",
      "\n",
      "TOYOTA V(t) = 0.015x^3 - 0.77x^2 + 12.175x + 0\n",
      "The Toyota reaches a velocity of 50 mph at 6.325 seconds\n",
      "\n"
     ]
    }
   ],
   "source": [
    "honda_velocity = Polynomial(Point(0, 0), Point(3.1, 30), Point(10.3, 60), Point(30.1, 90))\n",
    "print('HONDA V(t) =', honda_velocity)\n",
    "honda_fifty = Polynomial.polynomial_sum(Polynomial(Point(0, -50)), honda_velocity)\n",
    "print(f'The Honda reaches a velocity of 50 mph at {honda_fifty.find_roots_range(0, 15)[0]} seconds\\n')\n",
    "\n",
    "jeep_velocity = Polynomial(Point(0, 0), Point(3.2, 30), Point(12, 60), Point(38.2, 90))\n",
    "print('JEEP V(t) =', jeep_velocity)\n",
    "jeep_fifty = Polynomial.polynomial_sum(Polynomial(Point(0, -50)), jeep_velocity)\n",
    "print(f'The Jeep reaches a velocity of 50 mph at {jeep_fifty.find_roots_range(0, 15)[0]} seconds\\n')\n",
    "\n",
    "kia_velocity = Polynomial(Point(0, 0), Point(4.2, 30), Point(12.8, 60), Point(38.7, 90))\n",
    "print('KIA V(t) =', kia_velocity)\n",
    "kia_fifty = Polynomial.polynomial_sum(Polynomial(Point(0, -50)), kia_velocity)\n",
    "print(f'The Honda reaches a velocity of 50 mph at {kia_fifty.find_roots_range(0, 15)[0]} seconds\\n')\n",
    "\n",
    "subaru_velocity = Polynomial(Point(0, 0), Point(2.8, 30), Point(9.5, 60), Point(22.7, 90))\n",
    "print('SUBARU V(t) =', subaru_velocity)\n",
    "subaru_fifty = Polynomial.polynomial_sum(Polynomial(Point(0, -50)), subaru_velocity)\n",
    "print(f'The Subaru reaches a velocity of 50 mph at {subaru_fifty.find_roots_range(0, 15)[0]} seconds\\n')\n",
    "\n",
    "toyota_velocity = Polynomial(Point(0, 0), Point(3.0, 30), Point(10.2, 60), Point(31.7, 90))\n",
    "print('TOYOTA V(t) =', toyota_velocity)\n",
    "toyota_fifty = Polynomial.polynomial_sum(Polynomial(Point(0, -50)), toyota_velocity)\n",
    "print(f'The Toyota reaches a velocity of 50 mph at {toyota_fifty.find_roots_range(0, 15)[0]} seconds\\n')\n"
   ]
  },
  {
   "cell_type": "code",
   "execution_count": null,
   "outputs": [],
   "source": [],
   "metadata": {
    "collapsed": false,
    "pycharm": {
     "name": "#%%\n"
    }
   }
  },
  {
   "cell_type": "markdown",
   "metadata": {
    "collapsed": false
   },
   "source": [
    "## Question 4\n",
    "In the problem above, consider the total distance each vehicle will travel while it accelerates from 0 to 90 m.p.h. That quantity can be calculated by integrating the velocity function v(t) for the vehicle. There is one small problem to overcome first. In this problem v(t) is measured in miles per hour and t is measured in seconds, so v(t) should be converted to miles per second before proceeding. The velocity function in miles per second is v(t)/3600. The distance traveled by the vehicle would be ∫T v(t) 3600dt, where T is the time at which the vehicle reaches 90 m.p.h. The real 0 velocity function v(t) is not known in this case, but interpolating polynomials for v(t) are available which should approximate v(t). Use the interpolating polynomials you generated in the previous exercise to approximate the distance needed for each vehicle to accelerate from 0 to 90 m.p.h."
   ]
  },
  {
   "cell_type": "code",
   "execution_count": 25,
   "metadata": {
    "collapsed": false,
    "pycharm": {
     "name": "#%%\n"
    }
   },
   "outputs": [
    {
     "name": "stdout",
     "output_type": "stream",
     "text": [
      "The Honda travels 0.47000504439644275 miles while accelerating to 90 mph\n",
      "The Jeep travels 0.5304928111282531 miles while accelerating to 90 mph\n",
      "The Kia travels 0.6294631796429101 miles while accelerating to 90 mph\n",
      "The Subaru travels 0.3561179182821022 miles while accelerating to 90 mph\n",
      "The Toyota travels 0.48005447524155137 miles while accelerating to 90 mph\n"
     ]
    }
   ],
   "source": [
    "honda_position = honda_velocity.get_integral(C=0)\n",
    "poly_ninety = honda_velocity.polynomial_sum(Polynomial(Point(0, -90)))\n",
    "ninety_miles_time = poly_ninety.find_roots_range(0, 50)[0]\n",
    "\n",
    "displacement = honda_position.evaluate(ninety_miles_time)\n",
    "print(f'The Honda travels {displacement/3600} miles while accelerating to 90 mph')\n",
    "\n",
    "\n",
    "jeep_position = jeep_velocity.get_integral(C=0)\n",
    "poly_ninety = jeep_velocity.polynomial_sum(Polynomial(Point(0, -90)))\n",
    "ninety_miles_time = poly_ninety.find_roots_range(0, 50)[0]\n",
    "\n",
    "displacement = jeep_position.evaluate(ninety_miles_time)\n",
    "print(f'The Jeep travels {displacement/3600} miles while accelerating to 90 mph')\n",
    "\n",
    "\n",
    "kia_position = kia_velocity.get_integral(C=0)\n",
    "poly_ninety = kia_velocity.polynomial_sum(Polynomial(Point(0, -90)))\n",
    "ninety_miles_time = poly_ninety.find_roots_range(0, 50)[0]\n",
    "\n",
    "displacement = kia_position.evaluate(ninety_miles_time)\n",
    "print(f'The Kia travels {displacement/3600} miles while accelerating to 90 mph')\n",
    "\n",
    "\n",
    "subaru_position = subaru_velocity.get_integral(C=0)\n",
    "poly_ninety = subaru_velocity.polynomial_sum(Polynomial(Point(0, -90)))\n",
    "ninety_miles_time = poly_ninety.find_roots_range(0, 50)[0]\n",
    "\n",
    "displacement = subaru_position.evaluate(ninety_miles_time)\n",
    "print(f'The Subaru travels {displacement/3600} miles while accelerating to 90 mph')\n",
    "\n",
    "\n",
    "toyota_position = toyota_velocity.get_integral(C=0)\n",
    "poly_ninety = toyota_velocity.polynomial_sum(Polynomial(Point(0, -90)))\n",
    "ninety_miles_time = poly_ninety.find_roots_range(0, 50)[0]\n",
    "\n",
    "displacement = toyota_position.evaluate(ninety_miles_time)\n",
    "print(f'The Toyota travels {displacement/3600} miles while accelerating to 90 mph')"
   ]
  },
  {
   "cell_type": "markdown",
   "metadata": {
    "collapsed": false
   },
   "source": [
    "## Question 5\n",
    "One major issue in using interpolating polynomials can be called \"goodness of fit.\" In fitting a polynomial through given data points, it is assumed that there ought to be a polynomial relationship between the independent and dependent variables. Question 2 showed that is not always the case. Use MATLAB to plot the interpolating polynomials you generated in Question 3. Do you believe there is a polynomial relationship between elapsed time and the velocity of the vehicles? What evidence do you have to support your conclusion?"
   ]
  },
  {
   "cell_type": "markdown",
   "metadata": {
    "collapsed": false
   },
   "source": []
  },
  {
   "cell_type": "markdown",
   "source": [],
   "metadata": {
    "collapsed": false
   }
  }
 ],
 "metadata": {
  "kernelspec": {
   "display_name": "Python 3",
   "language": "python",
   "name": "python3"
  },
  "language_info": {
   "codemirror_mode": {
    "name": "ipython",
    "version": 3
   },
   "file_extension": ".py",
   "mimetype": "text/x-python",
   "name": "python",
   "nbconvert_exporter": "python",
   "pygments_lexer": "ipython3",
   "version": "3.9.7"
  }
 },
 "nbformat": 4,
 "nbformat_minor": 0
}