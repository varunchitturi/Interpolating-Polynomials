{
 "cells": [
  {
   "cell_type": "markdown",
   "metadata": {
    "collapsed": true,
    "pycharm": {
     "name": "#%% md\n"
    }
   },
   "source": [
    "# Interpolating Polynomials\n",
    "### Authors\n",
    "Varun Chitturi, FNU Kalkin, Aditya Patel\n",
    "\n",
    "### Division of Labor\n",
    "\n",
    "|Name|Task|\n",
    "|-----------|-----------|\n",
    "|Varun Chitturi|Worked on graphs and question 2, 3, and 5|\n",
    "|Aditya Patel|Worked on questions 1, 2, 4, and 5|\n",
    "|FNU Kalkin|Created Polynomial library to integrate, add, evaulate, and interpolate polynomials as well as find derivatives and roots|\n",
    "\n",
    "### Math Work\n",
    "We used physics concepts for finding displacement and acceleration from the velocity graph, employing integrals and derivatives.\n",
    "\n",
    "For finding the coefficients of the polynomial itself, we found a system of equations with the given points and put this system into a matrix and then solved it.\n",
    "\n",
    "For evaluating the polynomials, we simply found the dot product of the coefficients vector and the x value vector. The resultant was the value of the polynomial.\n",
    "\n",
    "For finding the integrals/derivatives, we used simple recursion, modifying the coefficients vector one coefficient at a time. The position of the coefficient in the vector represents the power of x it corresponds with, so we used that to find the new coefficient.\n",
    "\n",
    "For finding the roots, we used a recursive algorithm with Newton's method."
   ]
  },
  {
   "cell_type": "code",
   "execution_count": 1,
   "metadata": {
    "pycharm": {
     "name": "#%%\n"
    }
   },
   "outputs": [],
   "source": [
    "from Polynomial import *\n",
    "import matplotlib.pyplot as plt\n",
    "import numpy as np"
   ]
  },
  {
   "cell_type": "markdown",
   "metadata": {
    "pycharm": {
     "name": "#%% md\n"
    }
   },
   "source": [
    "## Question 1\n",
    "Find the interpolating polynomial of degree 3 which passes through (1,29), (-1,-35), (2,31), and (-3,-19)."
   ]
  },
  {
   "cell_type": "code",
   "execution_count": 2,
   "metadata": {
    "pycharm": {
     "name": "#%%\n"
    }
   },
   "outputs": [
    {
     "name": "stdout",
     "output_type": "stream",
     "text": [
      "-4x^3 - 2x^2 + 36x - 1\n"
     ]
    }
   ],
   "source": [
    "poly = Polynomial(\n",
    "    Point(1, 29),\n",
    "    Point(-1, -35),\n",
    "    Point(2, 31),\n",
    "    Point(-3, -19))\n",
    "print(poly)"
   ]
  },
  {
   "cell_type": "markdown",
   "metadata": {},
   "source": [
    "## Question 2\n",
    "\n",
    "To construct a fourth degree polynomial which \"looks like\" the graph of y = 2^t, one could specify that the polynomial go through the following five points: (-1, 0.5), (0,1), (1,2), (2,4), and (3,8).\n",
    "a) Find the desired interpolating polynomial\n",
    "b) Graph both. How close are the values of the polynomial and the function for t values between -1 and 3? What happens when the polynomial is compared to the function at t values outside of this interval? If you needed to use the interpolating polynomial to approximate 2t y = what types of mathematical precautions would you take?"
   ]
  },
  {
   "cell_type": "code",
   "execution_count": 3,
   "metadata": {
    "pycharm": {
     "name": "#%%\n"
    }
   },
   "outputs": [
    {
     "name": "stdout",
     "output_type": "stream",
     "text": [
      "0.021x^4 + 0.042x^3 + 0.229x^2 + 0.708x + 1\n"
     ]
    }
   ],
   "source": [
    "poly = Polynomial(\n",
    "    Point(-1, 0.5),\n",
    "    Point(0, 1),\n",
    "    Point(1, 2),\n",
    "    Point(2, 4),\n",
    "    Point(3, 8))\n",
    "print(poly)"
   ]
  },
  {
   "cell_type": "code",
   "execution_count": 4,
   "metadata": {
    "pycharm": {
     "name": "#%%\n"
    }
   },
   "outputs": [
    {
     "name": "stdout",
     "output_type": "stream",
     "text": [
      "[-10.     -9.999  -9.998 ...   9.997   9.998   9.999] 4 0.02083333333333329\n",
      "[-10.     -9.999  -9.998 ...   9.997   9.998   9.999] 3 0.041666666666666845\n",
      "[-10.     -9.999  -9.998 ...   9.997   9.998   9.999] 2 0.22916666666666663\n",
      "[-10.     -9.999  -9.998 ...   9.997   9.998   9.999] 1 0.708333333333333\n",
      "[-10.     -9.999  -9.998 ...   9.997   9.998   9.999] 0 1.0\n"
     ]
    },
    {
     "data": {
      "image/png": "[encoded data removed]",
      "text/plain": [
       "<Figure size 432x288 with 1 Axes>"
      ]
     },
     "metadata": {
      "needs_background": "light"
     },
     "output_type": "display_data"
    }
   ],
   "source": [
    "x = np.arange(-10, 10, 0.001)\n",
    "y1 = poly.evaluate(x)\n",
    "y2 = 2 ** x\n",
    "\n",
    "fig, ax = plt.subplots()\n",
    "\n",
    "ax.plot(x, y1, linewidth=2.0)\n",
    "ax.plot(x, y2, linewidth=2.0)\n",
    "\n",
    "plt.legend([\"Polynomial\", \"2^x\"])\n",
    "\n",
    "plt.show()\n"
   ]
  },
  {
   "cell_type": "markdown",
   "metadata": {},
   "source": [
    "The curve fit is very good between -1 and 3. Outside this interval, the fit becomes less accurate. Some mathematical precautions we would take when approximating are making sure the desired x value is in a reasonable range and that the polynomial is of a high degree."
   ]
  },
  {
   "cell_type": "markdown",
   "metadata": {},
   "source": [
    "## Question 3\n",
    "Interpolating polynomials allow us to estimate values of an unknown function between known data points. For example, consider the data in Table 1, which was taken from Car and Driver magazine1. Five sport utility vehicles were tested for their acceleration: the data reported were the time it took each vehicle to go from 0 to 30 m.p.h., from 0 to 60 m.p.h., and from 0 to 90 m.p.h. For each vehicle, write the third degree interpolating polynomial and use that polynomial to find an estimate for the time it would take the vehicle to accelerate from 0 m.p.h. to 50 m.p.h. Note: to obtain the polynomials, it may be easier to write the data in the form suggested by Table 2.\n",
    "\n",
    "| Vehicle           | 0-30 mph | 0-60 mph | 0-90 mph |\n",
    "|-------------------|----------|----------|----------|\n",
    "| Honda CR - VEX    | 3.1      | 10.3     | 30.1     |\n",
    "| Jeep Cherokee SE  | 3.2      | 12       | 38.2     |\n",
    "| Kia Sportage      | 4.2      | 12.8     | 38.7     |\n",
    "| Subaru Forester L | 2.8      | 9.5      | 22.7     |\n",
    "| Toyota RAV4       | 3.0      | 10.2     | 31.7     |\n",
    "\n",
    "Table 1: Acceleration Times (seconds) for various models of automobiles\n",
    "\n",
    "\n",
    "<br>\n",
    "\n",
    "|Velocity Data||||\n",
    "|-------------------|----------|----------|-----------------------|\n",
    "| Honda CR - VEX    | Time      |0| 3.1   | 10.3     | 30.1 |\n",
    "|                   | Velocity  |0| 30    | 60     | 90    |\n",
    "| Jeep Cherokee SE  | Time      | 0|3.2   | 12     | 38.2     |\n",
    "|                   | Velocity  |0| 30    | 60     | 90     |\n",
    "| Kia Sportage      | Time      | 0|4.2   | 12.8     | 38.7    |\n",
    "|                   | Velocity  |0| 30    | 60    | 90  |\n",
    "| Subaru Forester L | Time      |0| 2.8   | 9.5     | 22.7     |\n",
    "|                   | Velocity  |0| 30    | 60     | 90     |\n",
    "| Toyota RAV4       | Time      |0| 3.0   | 10.2     | 31.7     |\n",
    "|                   | Velocity  |0| 30    | 60     | 90    |\n",
    "\n",
    "Table 2: Elapsed Time (seconds) and Velocities (m.p.h.) for various models of automobiles"
   ]
  },
  {
   "cell_type": "code",
   "execution_count": 5,
   "metadata": {
    "pycharm": {
     "name": "#%%\n"
    }
   },
   "outputs": [
    {
     "name": "stdout",
     "output_type": "stream",
     "text": [
      "HONDA V(t) = 0.015x^3 - 0.729x^2 + 11.799x + 0\n",
      "The Honda reaches a velocity of 50 mph at 6.534 seconds\n",
      "\n",
      "JEEP V(t) = 0.011x^3 - 0.669x^2 + 11.401x + 0\n",
      "The Jeep reaches a velocity of 50 mph at 6.764 seconds\n",
      "\n",
      "KIA V(t) = 0.006x^3 - 0.381x^2 + 8.645x + 0\n",
      "The Honda reaches a velocity of 50 mph at 8.681 seconds\n",
      "\n",
      "SUBARU V(t) = 0.024x^3 - 0.952x^2 + 13.192x + 0\n",
      "The Subaru reaches a velocity of 50 mph at 5.985 seconds\n",
      "\n",
      "TOYOTA V(t) = 0.015x^3 - 0.77x^2 + 12.175x + 0\n",
      "The Toyota reaches a velocity of 50 mph at 6.325 seconds\n",
      "\n"
     ]
    }
   ],
   "source": [
    "honda_velocity = Polynomial(Point(0, 0), Point(3.1, 30), Point(10.3, 60), Point(30.1, 90))\n",
    "print('HONDA V(t) =', honda_velocity)\n",
    "honda_fifty = Polynomial.polynomial_sum(Polynomial(Point(0, -50)), honda_velocity)\n",
    "print(f'The Honda reaches a velocity of 50 mph at {honda_fifty.find_roots_range(0, 15)[0]} seconds\\n')\n",
    "\n",
    "jeep_velocity = Polynomial(Point(0, 0), Point(3.2, 30), Point(12, 60), Point(38.2, 90))\n",
    "print('JEEP V(t) =', jeep_velocity)\n",
    "jeep_fifty = Polynomial.polynomial_sum(Polynomial(Point(0, -50)), jeep_velocity)\n",
    "print(f'The Jeep reaches a velocity of 50 mph at {jeep_fifty.find_roots_range(0, 15)[0]} seconds\\n')\n",
    "\n",
    "kia_velocity = Polynomial(Point(0, 0), Point(4.2, 30), Point(12.8, 60), Point(38.7, 90))\n",
    "print('KIA V(t) =', kia_velocity)\n",
    "kia_fifty = Polynomial.polynomial_sum(Polynomial(Point(0, -50)), kia_velocity)\n",
    "print(f'The Honda reaches a velocity of 50 mph at {kia_fifty.find_roots_range(0, 15)[0]} seconds\\n')\n",
    "\n",
    "subaru_velocity = Polynomial(Point(0, 0), Point(2.8, 30), Point(9.5, 60), Point(22.7, 90))\n",
    "print('SUBARU V(t) =', subaru_velocity)\n",
    "subaru_fifty = Polynomial.polynomial_sum(Polynomial(Point(0, -50)), subaru_velocity)\n",
    "print(f'The Subaru reaches a velocity of 50 mph at {subaru_fifty.find_roots_range(0, 15)[0]} seconds\\n')\n",
    "\n",
    "toyota_velocity = Polynomial(Point(0, 0), Point(3.0, 30), Point(10.2, 60), Point(31.7, 90))\n",
    "print('TOYOTA V(t) =', toyota_velocity)\n",
    "toyota_fifty = Polynomial.polynomial_sum(Polynomial(Point(0, -50)), toyota_velocity)\n",
    "print(f'The Toyota reaches a velocity of 50 mph at {toyota_fifty.find_roots_range(0, 15)[0]} seconds\\n')\n"
   ]
  },
  {
   "cell_type": "markdown",
   "metadata": {},
   "source": [
    "## Question 4\n",
    "In the problem above, consider the total distance each vehicle will travel while it accelerates from 0 to 90 m.p.h. That quantity can be calculated by integrating the velocity function v(t) for the vehicle. There is one small problem to overcome first. In this problem v(t) is measured in miles per hour and t is measured in seconds, so v(t) should be converted to miles per second before proceeding. The velocity function in miles per second is v(t)/3600. The distance traveled by the vehicle would be ∫T v(t) 3600dt, where T is the time at which the vehicle reaches 90 m.p.h. The real 0 velocity function v(t) is not known in this case, but interpolating polynomials for v(t) are available which should approximate v(t). Use the interpolating polynomials you generated in the previous exercise to approximate the distance needed for each vehicle to accelerate from 0 to 90 m.p.h."
   ]
  },
  {
   "cell_type": "code",
   "execution_count": 6,
   "metadata": {
    "pycharm": {
     "name": "#%%\n"
    }
   },
   "outputs": [
    {
     "name": "stdout",
     "output_type": "stream",
     "text": [
      "The Honda travels 0.47000504439644275 miles while accelerating to 90 mph\n",
      "The Jeep travels 0.5304928111282531 miles while accelerating to 90 mph\n",
      "The Kia travels 0.6294631796429101 miles while accelerating to 90 mph\n",
      "The Subaru travels 0.3561179182821022 miles while accelerating to 90 mph\n",
      "The Toyota travels 0.48005447524155137 miles while accelerating to 90 mph\n"
     ]
    }
   ],
   "source": [
    "honda_position = honda_velocity.get_integral(C=0)\n",
    "poly_ninety = honda_velocity.polynomial_sum(Polynomial(Point(0, -90)))\n",
    "ninety_miles_time = poly_ninety.find_roots_range(0, 50)[0]\n",
    "\n",
    "displacement = honda_position.evaluate(ninety_miles_time)\n",
    "print(f'The Honda travels {displacement/3600} miles while accelerating to 90 mph')\n",
    "\n",
    "\n",
    "jeep_position = jeep_velocity.get_integral(C=0)\n",
    "poly_ninety = jeep_velocity.polynomial_sum(Polynomial(Point(0, -90)))\n",
    "ninety_miles_time = poly_ninety.find_roots_range(0, 50)[0]\n",
    "\n",
    "displacement = jeep_position.evaluate(ninety_miles_time)\n",
    "print(f'The Jeep travels {displacement/3600} miles while accelerating to 90 mph')\n",
    "\n",
    "\n",
    "kia_position = kia_velocity.get_integral(C=0)\n",
    "poly_ninety = kia_velocity.polynomial_sum(Polynomial(Point(0, -90)))\n",
    "ninety_miles_time = poly_ninety.find_roots_range(0, 50)[0]\n",
    "\n",
    "displacement = kia_position.evaluate(ninety_miles_time)\n",
    "print(f'The Kia travels {displacement/3600} miles while accelerating to 90 mph')\n",
    "\n",
    "\n",
    "subaru_position = subaru_velocity.get_integral(C=0)\n",
    "poly_ninety = subaru_velocity.polynomial_sum(Polynomial(Point(0, -90)))\n",
    "ninety_miles_time = poly_ninety.find_roots_range(0, 50)[0]\n",
    "\n",
    "displacement = subaru_position.evaluate(ninety_miles_time)\n",
    "print(f'The Subaru travels {displacement/3600} miles while accelerating to 90 mph')\n",
    "\n",
    "\n",
    "toyota_position = toyota_velocity.get_integral(C=0)\n",
    "poly_ninety = toyota_velocity.polynomial_sum(Polynomial(Point(0, -90)))\n",
    "ninety_miles_time = poly_ninety.find_roots_range(0, 50)[0]\n",
    "\n",
    "displacement = toyota_position.evaluate(ninety_miles_time)\n",
    "print(f'The Toyota travels {displacement/3600} miles while accelerating to 90 mph')"
   ]
  },
  {
   "cell_type": "markdown",
   "metadata": {},
   "source": [
    "## Question 5\n",
    "One major issue in using interpolating polynomials can be called \"goodness of fit.\" In fitting a polynomial through given data points, it is assumed that there ought to be a polynomial relationship between the independent and dependent variables. Question 2 showed that is not always the case. Use MATLAB to plot the interpolating polynomials you generated in Question 3. Do you believe there is a polynomial relationship between elapsed time and the velocity of the vehicles? What evidence do you have to support your conclusion?"
   ]
  },
  {
   "cell_type": "code",
   "execution_count": 7,
   "metadata": {
    "pycharm": {
     "name": "#%%\n"
    }
   },
   "outputs": [
    {
     "name": "stdout",
     "output_type": "stream",
     "text": [
      "[0.0000e+00 1.0000e-03 2.0000e-03 ... 4.9997e+01 4.9998e+01 4.9999e+01] 3 0.014512301261172953\n",
      "[0.0000e+00 1.0000e-03 2.0000e-03 ... 4.9997e+01 4.9998e+01 4.9999e+01] 2 -0.729489369731955\n",
      "[0.0000e+00 1.0000e-03 2.0000e-03 ... 4.9997e+01 4.9998e+01 4.9999e+01] 1 11.799373185887898\n",
      "[0.0000e+00 1.0000e-03 2.0000e-03 ... 4.9997e+01 4.9998e+01 4.9999e+01] 0 0.0\n",
      "[0.0000e+00 1.0000e-03 2.0000e-03 ... 4.9997e+01 4.9998e+01 4.9999e+01] 3 0.011321253134380108\n",
      "[0.0000e+00 1.0000e-03 2.0000e-03 ... 4.9997e+01 4.9998e+01 4.9999e+01] 2 -0.6692421385516686\n",
      "[0.0000e+00 1.0000e-03 2.0000e-03 ... 4.9997e+01 4.9998e+01 4.9999e+01] 1 11.400645211269287\n",
      "[0.0000e+00 1.0000e-03 2.0000e-03 ... 4.9997e+01 4.9998e+01 4.9999e+01] 0 0.0\n",
      "[0.0000e+00 1.0000e-03 2.0000e-03 ... 4.9997e+01 4.9998e+01 4.9999e+01] 3 0.005632257275331084\n",
      "[0.0000e+00 1.0000e-03 2.0000e-03 ... 4.9997e+01 4.9998e+01 4.9999e+01] 2 -0.38125501819890084\n",
      "[0.0000e+00 1.0000e-03 2.0000e-03 ... 4.9997e+01 4.9998e+01 4.9999e+01] 1 8.644775200955687\n",
      "[0.0000e+00 1.0000e-03 2.0000e-03 ... 4.9997e+01 4.9998e+01 4.9999e+01] 0 0.0\n",
      "[0.0000e+00 1.0000e-03 2.0000e-03 ... 4.9997e+01 4.9998e+01 4.9999e+01] 3 0.024039372321943298\n",
      "[0.0000e+00 1.0000e-03 2.0000e-03 ... 4.9997e+01 4.9998e+01 4.9999e+01] 2 -0.9521762557690823\n",
      "[0.0000e+00 1.0000e-03 2.0000e-03 ... 4.9997e+01 4.9998e+01 4.9999e+01] 1 13.19191055143511\n",
      "[0.0000e+00 1.0000e-03 2.0000e-03 ... 4.9997e+01 4.9998e+01 4.9999e+01] 0 0.0\n",
      "[0.0000e+00 1.0000e-03 2.0000e-03 ... 4.9997e+01 4.9998e+01 4.9999e+01] 3 0.014994757980801167\n",
      "[0.0000e+00 1.0000e-03 2.0000e-03 ... 4.9997e+01 4.9998e+01 4.9999e+01] 2 -0.7698262301831768\n",
      "[0.0000e+00 1.0000e-03 2.0000e-03 ... 4.9997e+01 4.9998e+01 4.9999e+01] 1 12.17452586872232\n",
      "[0.0000e+00 1.0000e-03 2.0000e-03 ... 4.9997e+01 4.9998e+01 4.9999e+01] 0 0.0\n"
     ]
    },
    {
     "data": {
      "image/png": "[encoded data removed]",
      "text/plain": [
       "<Figure size 432x288 with 1 Axes>"
      ]
     },
     "metadata": {
      "needs_background": "light"
     },
     "output_type": "display_data"
    }
   ],
   "source": [
    "x = np.arange(0, 50, 0.001)\n",
    "\n",
    "carGraphs = {\n",
    "    \"honda\" : honda_velocity,\n",
    "    \"jeep\" : jeep_velocity,\n",
    "    \"kia\" : kia_velocity,\n",
    "    \"subaru\" : subaru_velocity,\n",
    "    \"toyota\" : toyota_velocity\n",
    "}\n",
    "\n",
    "carFig, ax = plt.subplots()\n",
    "\n",
    "for key in carGraphs.keys():\n",
    "    ax.plot(x, carGraphs[key].evaluate(x), linewidth=2.0)\n",
    "\n",
    "plt.legend(carGraphs.keys())\n",
    "\n",
    "plt.show()"
   ]
  },
  {
   "cell_type": "markdown",
   "metadata": {},
   "source": [
    "We don't think that there is a polynomial relationship between elapsed time and velocity. By looking at the end behavior on the graph above, it would seem that velocity is unbounded. However, we know that velocity level off after some time and remain nearly constant, so it clearly can't be a polynomial relationship."
   ]
  },
  {
   "cell_type": "markdown",
   "metadata": {},
   "source": [
    "### Polynomial Class for Reference"
   ]
  },
  {
   "cell_type": "code",
   "execution_count": null,
   "metadata": {},
   "outputs": [],
   "source": [
    "from zipfile import LargeZipFile\n",
    "from .Point import Point\n",
    "import numpy as np\n",
    "\n",
    "\n",
    "# TODO: maybe make it so 0 terms aren't displayed\n",
    "class Polynomial:\n",
    "    \"\"\"\n",
    "    A type to hold polynomial equations\n",
    "    \"\"\"\n",
    "\n",
    "    def __init__(self, *points: Point, coeffs=None):\n",
    "        \"\"\"\n",
    "\n",
    "        :param points: The points that the polynomial intersects\n",
    "        :param coeffs: A list of coefficients of the polynomial\n",
    "        \"\"\"\n",
    "\n",
    "        if points:\n",
    "            self.points = points\n",
    "            self.degree = len(points) - 1\n",
    "            constants = [point.y for point in points]\n",
    "            x_vals = self.get_x_coeffs()\n",
    "            self.coeffs = np.linalg.solve(x_vals, constants)\n",
    "        elif coeffs:\n",
    "            self.coeffs = coeffs\n",
    "            self.degree = len(coeffs) - 1\n",
    "        else:\n",
    "            assert \"Please enter either a list of points or a list of coefficients\"\n",
    "\n",
    "    def __str__(self):\n",
    "        return Polynomial._clean_str(Polynomial._str_helper(self.coeffs, self.degree))\n",
    "\n",
    "    def __eq__(self, obj):\n",
    "        ob1Coeffs = self.coeffs\n",
    "        ob2Coeffs = obj.coeffs\n",
    "        if ob1Coeffs[-1] == ob2Coeffs[-1] and ob1Coeffs[-1] == 'C' and ob2Coeffs[-1] == 'C':\n",
    "            ob1Coeffs.pop()\n",
    "            ob2Coeffs.pop()\n",
    "        elif obj.coeffs[-1] != self.coeffs[-1]:\n",
    "            return False\n",
    "\n",
    "        return [round(float(x), 12) for x in list(ob1Coeffs)] == [round(float(x), 12) for x in list(ob2Coeffs)] and self.degree == obj.degree\n",
    "\n",
    "    def plot(self):\n",
    "        \"\"\"\n",
    "\n",
    "        Plots a graph of the polynomial\n",
    "        \"\"\"\n",
    "        # TODO: DO PLOT\n",
    "\n",
    "    def polynomial_sum(self, poly_2):\n",
    "        \"\"\"\n",
    "        \n",
    "        Returns a sum of two polynomials\n",
    "        \"\"\"\n",
    "        bigger_polynomial = max(self, poly_2, key=lambda x:len(x.coeffs))\n",
    "        smaller_polynomial = min(self, poly_2, key=lambda x:len(x.coeffs))\n",
    "\n",
    "        result = []\n",
    "        for i in range(1, len(smaller_polynomial.coeffs) + 1):\n",
    "            result.insert(0, bigger_polynomial.coeffs[-i] + smaller_polynomial.coeffs[-i])\n",
    "        for i in range(len(smaller_polynomial.coeffs) + 1, len(bigger_polynomial.coeffs) + 1):\n",
    "            result.insert(0, bigger_polynomial.coeffs[-i])\n",
    "\n",
    "        return Polynomial(coeffs=result)\n",
    "    \n",
    "    def get_derivative(self):\n",
    "        \"\"\"\n",
    "\n",
    "        :return: Returns the derivative of a polynomial\n",
    "        \"\"\"\n",
    "        coeffs = Polynomial._derivative_helper(self.degree, self.coeffs)\n",
    "        return Polynomial(coeffs=coeffs)\n",
    "\n",
    "    def get_integral(self, C='C'):\n",
    "        \"\"\"\n",
    "\n",
    "        :return: Returns the integral of a polynomial\n",
    "        \"\"\"\n",
    "        coeffs = Polynomial._integral_helper(self.degree, self.coeffs, C)\n",
    "        return Polynomial(coeffs=coeffs)\n",
    "\n",
    "    def get_x_coeffs(self):\n",
    "        \"\"\"\n",
    "\n",
    "        :return: A coefficient matrix of a polynomial\n",
    "        \"\"\"\n",
    "        coeffs = []\n",
    "\n",
    "        for point in self.points:\n",
    "            eq = []\n",
    "            for degree in range(self.degree + 1):\n",
    "                eq.insert(0, point.x ** degree)\n",
    "            coeffs.append(eq)\n",
    "        return np.array(coeffs)\n",
    "\n",
    "    def evaluate(self, x):\n",
    "        \"\"\"\n",
    "\n",
    "        :return: Returns the value of a polynomial at a given point\n",
    "        \"\"\"\n",
    "        if np.isscalar(x):\n",
    "            x_vector = []\n",
    "            for degree in range(self.degree + 1):\n",
    "                x_vector.insert(0, x ** degree)\n",
    "            x_vector = np.array(x_vector)\n",
    "            return np.matmul(self.coeffs, x_vector)\n",
    "        else:\n",
    "            y = np.zeros_like(x, dtype=float)\n",
    "            for (i, degree) in enumerate(range(self.degree, -1, -1)):\n",
    "                if self.coeffs[i] != \"C\":\n",
    "                    print(x, degree, self.coeffs[i])\n",
    "                    y += (x ** degree) * self.coeffs[i]\n",
    "            return y\n",
    "\n",
    "    def find_root(self, init_guess):\n",
    "        \"\"\"\n",
    "\n",
    "        :return: Returns a root of a polynomial given an initial guess\n",
    "        \"\"\"\n",
    "        y = self.evaluate(init_guess)\n",
    "        if round(y * 1000) / 1000 == 0:\n",
    "            return init_guess\n",
    "        try:\n",
    "            y_prime = self.get_derivative().evaluate(init_guess)\n",
    "            return self.find_root(init_guess - y / y_prime)\n",
    "        except RecursionError as e:\n",
    "            return None\n",
    "\n",
    "    def find_roots_range(self, min, max, width=1):\n",
    "        \"\"\"\n",
    "\n",
    "        :return: Returns a list of all roots of a polynomial over a given range\n",
    "        \"\"\"\n",
    "        solutions = []\n",
    "        while min <= max:\n",
    "            if self.find_root(min):\n",
    "                sol = round(1000 * self.find_root(min)) / 1000\n",
    "                if sol not in solutions:\n",
    "                    solutions.append(sol)\n",
    "            min += width\n",
    "        return solutions\n",
    "\n",
    "    @staticmethod\n",
    "    def _clean_str(string):\n",
    "        return string.replace(\"+ -\", '- ').replace('x^1 ', 'x ')\n",
    "\n",
    "    @staticmethod\n",
    "    def _derivative_helper(degree, coeffs):\n",
    "        if degree == 0:\n",
    "            return []\n",
    "        return [coeffs[0] * degree] + Polynomial._derivative_helper(degree - 1, coeffs[1:])\n",
    "\n",
    "    @staticmethod\n",
    "    def _integral_helper(degree, coeffs, C):\n",
    "        if degree == 0:\n",
    "            return [coeffs[0], C]\n",
    "        return [coeffs[0] / (degree + 1)] + Polynomial._integral_helper(degree - 1, coeffs[1:], C)\n",
    "\n",
    "    @staticmethod\n",
    "    def _str_helper(sols, degree):\n",
    "        a = sols[0]\n",
    "\n",
    "        if type(a) != str:\n",
    "            a = round(a * 1000) / 1000.0\n",
    "            if a % 1.0 in [0, 0.0]:\n",
    "                a = int(a)\n",
    "\n",
    "        if degree == 0:\n",
    "            return str(a)\n",
    "        else:\n",
    "            if a == 1:\n",
    "                return f'x^{degree} + ' + Polynomial._str_helper(sols[1:], degree - 1)\n",
    "            elif a == -1:\n",
    "                return f'-x^{degree} + ' + Polynomial._str_helper(sols[1:], degree - 1)\n",
    "            return f'{a}x^{degree} + ' + Polynomial._str_helper(sols[1:], degree - 1)\n"
   ]
  }
 ],
 "metadata": {
  "kernelspec": {
   "display_name": "Python 3 (ipykernel)",
   "language": "python",
   "name": "python3"
  },
  "language_info": {
   "codemirror_mode": {
    "name": "ipython",
    "version": 3
   },
   "file_extension": ".py",
   "mimetype": "text/x-python",
   "name": "python",
   "nbconvert_exporter": "python",
   "pygments_lexer": "ipython3",
   "version": "3.9.7"
  }
 },
 "nbformat": 4,
 "nbformat_minor": 1
}
